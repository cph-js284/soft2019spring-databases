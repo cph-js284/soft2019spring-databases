{
 "cells": [
  {
   "cell_type": "markdown",
   "metadata": {},
   "source": [
    "# Plan for today\n",
    "* [Last weeks assignment](https://github.com/datsoftlyngby/soft2019spring-databases/blob/master/assignments/assignment12.md)\n",
    "    * Link to shared document is on moodle (and [here](https://docs.google.com/document/d/1c8W921VuAG5FaQJuMjIn6JSdAuYiA2eBQxrKk-YYXVs/edit))\n",
    "* More Neo4J\n",
    "* This weeks assignment\n",
    "* (Preliminary) exam info (full info next week)"
   ]
  },
  {
   "cell_type": "markdown",
   "metadata": {},
   "source": [
    "# Graph databases\n",
    "It is not only Neo4J:\n",
    "\n",
    "https://en.wikipedia.org/wiki/Graph_database"
   ]
  },
  {
   "cell_type": "markdown",
   "metadata": {
    "button": false,
    "new_sheet": false,
    "run_control": {
     "read_only": false
    },
    "slideshow": {
     "slide_type": "slide"
    }
   },
   "source": [
    "# Neo4J continued\n",
    "\n",
    "\n",
    "The following is based on http://neo4j.com/graphgist/6619085 and https://maxdemarzi.com/2015/08/26/modeling-airline-flights-in-neo4j/ and in particular on `:play http://guides.neo4j.com/modeling_airports`.\n",
    "\n",
    "The original data is extrtacted from https://www.transtats.bts.gov/databases.asp?Mode_ID=1&Mode_Desc=Aviation&Subject_ID2=0"
   ]
  },
  {
   "cell_type": "code",
   "execution_count": null,
   "metadata": {
    "button": false,
    "new_sheet": false,
    "run_control": {
     "read_only": false
    },
    "slideshow": {
     "slide_type": "slide"
    }
   },
   "outputs": [],
   "source": [
    "%%bash\n",
    "docker run \\\n",
    "    -d --name neo4j \\\n",
    "    --rm \\\n",
    "    --publish=7474:7474 \\\n",
    "    --publish=7687:7687 \\\n",
    "    --env NEO4J_AUTH=neo4j/fancy!99Doorknob \\\n",
    "    neo4j"
   ]
  },
  {
   "cell_type": "code",
   "execution_count": null,
   "metadata": {},
   "outputs": [],
   "source": [
    "%%bash\n",
    "docker ps -a"
   ]
  },
  {
   "cell_type": "code",
   "execution_count": null,
   "metadata": {},
   "outputs": [],
   "source": [
    "import sys\n",
    "from neo4j import GraphDatabase\n",
    "\n",
    "uri = \"bolt://localhost:7687\"\n",
    "auth=(\"neo4j\", \"fancy!99Doorknob\")\n",
    "driver = GraphDatabase.driver(uri, auth=auth)\n",
    "\n",
    "def neo(command):\n",
    "    try:\n",
    "        with driver.session() as session:\n",
    "            result = session.run(command)\n",
    "        return result # result is a resultset/cursor for neo4j\n",
    "    except Exception as ex:\n",
    "        print(str(ex), file=sys.stderr)\n",
    "        \n",
    "def neov(command):\n",
    "    try:\n",
    "        return neo(command).values()\n",
    "    except Exception as ex:\n",
    "        return 'Shit happened'\n",
    "\"done\""
   ]
  },
  {
   "cell_type": "markdown",
   "metadata": {
    "button": false,
    "collapsed": true,
    "new_sheet": false,
    "run_control": {
     "read_only": false
    },
    "slideshow": {
     "slide_type": "slide"
    }
   },
   "source": [
    "## Recap on Modelling in Neo4j\n",
    "\n",
    "\n",
    "\n",
    "When modeling data it is useful to have a use case of a system's application in mind. For example, we could start with the following question:\n",
    "\n",
    "> As an air travel enthusiast\n",
    ">\n",
    "> I want to know how airports are connected\n",
    ">\n",
    "> So that I can find the busiest ones\n",
    "\n",
    "\n",
    "Consequently, we could create the following model:\n",
    "\n",
    "![initial_model](http://guides.neo4j.com/modeling_airports/img/initial.png)\n"
   ]
  },
  {
   "cell_type": "markdown",
   "metadata": {
    "button": false,
    "new_sheet": false,
    "run_control": {
     "read_only": false
    },
    "slideshow": {
     "slide_type": "slide"
    }
   },
   "source": [
    "### Manually creating the model\n",
    "\n",
    "Before we start working with a large dataset let’s create some nodes and relationships manually. First we will create some airports:"
   ]
  },
  {
   "cell_type": "code",
   "execution_count": null,
   "metadata": {
    "button": false,
    "new_sheet": false,
    "run_control": {
     "read_only": false
    },
    "slideshow": {
     "slide_type": "fragment"
    }
   },
   "outputs": [],
   "source": [
    "neov(\"\"\"\n",
    "CREATE (:Airport {code: \"LAX\"});\n",
    "CREATE (:Airport {code: \"LAS\"});\n",
    "CREATE (:Airport {code: \"ABQ\"});\n",
    "\"\"\")"
   ]
  },
  {
   "cell_type": "markdown",
   "metadata": {
    "slideshow": {
     "slide_type": "fragment"
    }
   },
   "source": [
    "Navigate to http://localhost:7474/browser/ to work with a browser based Neo4j console."
   ]
  },
  {
   "cell_type": "markdown",
   "metadata": {
    "button": false,
    "new_sheet": false,
    "run_control": {
     "read_only": false
    },
    "slideshow": {
     "slide_type": "slide"
    }
   },
   "source": [
    "We can find `LAX` by changing the `CREATE` to a `MATCH` and returning the matched node:\n",
    "\n",
    "See https://www.world-airport-codes.com/ for the airport codes."
   ]
  },
  {
   "cell_type": "code",
   "execution_count": null,
   "metadata": {
    "button": false,
    "new_sheet": false,
    "run_control": {
     "read_only": false
    },
    "slideshow": {
     "slide_type": "fragment"
    }
   },
   "outputs": [],
   "source": [
    "neov('''\n",
    "MATCH (lax:Airport {code: \"LAX\"})\n",
    "RETURN lax\n",
    "''')"
   ]
  },
  {
   "cell_type": "markdown",
   "metadata": {
    "button": false,
    "new_sheet": false,
    "run_control": {
     "read_only": false
    },
    "slideshow": {
     "slide_type": "slide"
    }
   },
   "source": [
    "### Create relationships\n",
    "\n",
    "Now let’s create some connections between those airports."
   ]
  },
  {
   "cell_type": "code",
   "execution_count": null,
   "metadata": {
    "button": false,
    "new_sheet": false,
    "run_control": {
     "read_only": false
    },
    "slideshow": {
     "slide_type": "fragment"
    }
   },
   "outputs": [],
   "source": [
    "neov('''\n",
    "MATCH (las:Airport {code: \"LAS\"})\n",
    "MATCH (lax:Airport {code: \"LAX\"})\n",
    "CREATE (las)-[connection:CONNECTED_TO {\n",
    "  airline: \"WN\",\n",
    "  flightNumber: \"82\",\n",
    "  date: \"2008-1-3\",\n",
    "  departure: 1715,\n",
    "  arrival: 1820}]->(lax)\n",
    "''')"
   ]
  },
  {
   "cell_type": "markdown",
   "metadata": {
    "button": false,
    "new_sheet": false,
    "run_control": {
     "read_only": false
    },
    "slideshow": {
     "slide_type": "slide"
    }
   },
   "source": [
    "\n",
    "We can check that the relationship was created correctly by executing the following query:"
   ]
  },
  {
   "cell_type": "code",
   "execution_count": null,
   "metadata": {
    "button": false,
    "new_sheet": false,
    "run_control": {
     "read_only": false
    },
    "slideshow": {
     "slide_type": "slide"
    }
   },
   "outputs": [],
   "source": [
    "neov('''\n",
    "MATCH connection = (las:Airport {code: \"LAS\"})\n",
    "        -[:CONNECTED_TO]->\n",
    "        (lax:Airport {code: \"LAX\"})\n",
    "RETURN connection\n",
    "''')"
   ]
  },
  {
   "cell_type": "markdown",
   "metadata": {
    "button": false,
    "new_sheet": false,
    "run_control": {
     "read_only": false
    },
    "slideshow": {
     "slide_type": "slide"
    }
   },
   "source": [
    "### Create Relationships Idempotently\n",
    "\n",
    "Idempotently, what is that? \n",
    "\n",
    "> *idempotent* ... denoting an element of a set which is unchanged in value when multiplied or otherwise operated on by itself.\n",
    "\n",
    "When using the `MERGE` command, we only need to inline the properties that make the `CONNECTED_TO` relationship unique. In this case it is the combination of airline, flightNumber, and date. To idempotently create a specific connection between airports we can run the following query:"
   ]
  },
  {
   "cell_type": "code",
   "execution_count": null,
   "metadata": {
    "button": false,
    "new_sheet": false,
    "run_control": {
     "read_only": false
    }
   },
   "outputs": [],
   "source": [
    "neov('''\n",
    "MATCH (las:Airport {code: \"LAS\"})\n",
    "MATCH (lax:Airport {code: \"LAX\"})\n",
    "MERGE (las)-\n",
    "    [connection:\n",
    "        CONNECTED_TO { \n",
    "            airline: \"WN\", \n",
    "            flightNumber: \"82\", \n",
    "            date: \"2008-1-3\"}\n",
    "    ]\n",
    "    ->(lax)\n",
    "ON CREATE SET connection.departure = 1715, connection.arrival = 1820\n",
    "''')"
   ]
  },
  {
   "cell_type": "markdown",
   "metadata": {
    "button": false,
    "new_sheet": false,
    "run_control": {
     "read_only": false
    },
    "slideshow": {
     "slide_type": "slide"
    }
   },
   "source": [
    "Let’s try it with another connection to get the hang of it:"
   ]
  },
  {
   "cell_type": "code",
   "execution_count": null,
   "metadata": {
    "button": false,
    "new_sheet": false,
    "run_control": {
     "read_only": false
    },
    "slideshow": {
     "slide_type": "-"
    }
   },
   "outputs": [],
   "source": [
    "neov('''\n",
    "MATCH (a:Airport {code: \"LAS\"})\n",
    "MATCH (b:Airport {code: \"ABQ\"})\n",
    "MERGE \n",
    "    (a) -[connection:\n",
    "        CONNECTED_TO { \n",
    "            airline: \"WN\", \n",
    "            flightNumber: \"500\", \n",
    "            date: \"2008-1-3\"}]\n",
    "    ->(b)\n",
    "ON CREATE SET connection.departure = 1450, connection.arrival = 1710\n",
    "''')"
   ]
  },
  {
   "cell_type": "markdown",
   "metadata": {
    "button": false,
    "new_sheet": false,
    "run_control": {
     "read_only": false
    },
    "slideshow": {
     "slide_type": "-"
    }
   },
   "source": [
    "Try running the query multiple times. The relationship will only be created once.\n"
   ]
  },
  {
   "cell_type": "markdown",
   "metadata": {
    "button": false,
    "new_sheet": false,
    "run_control": {
     "read_only": false
    },
    "slideshow": {
     "slide_type": "slide"
    }
   },
   "source": [
    "### Find All the Connections leaving an Airport\n",
    "\n",
    "We can now find any connections leaving LAS:"
   ]
  },
  {
   "cell_type": "code",
   "execution_count": null,
   "metadata": {
    "button": false,
    "new_sheet": false,
    "run_control": {
     "read_only": false
    }
   },
   "outputs": [],
   "source": [
    "neov('''\n",
    "MATCH  \n",
    "    (las:Airport {code: \"LAS\"})-[connection:CONNECTED_TO]->(dest:Airport)\n",
    "RETURN connection\n",
    "''')"
   ]
  },
  {
   "cell_type": "markdown",
   "metadata": {
    "button": false,
    "new_sheet": false,
    "run_control": {
     "read_only": false
    },
    "slideshow": {
     "slide_type": "slide"
    }
   },
   "source": [
    "### Exploring data with LOAD CSV\n",
    "\n",
    "While we are working out the appropriate model for our dataset it is much easier to work with a subset of the data so that we can iterate quickly. A smaller dataset containing the first 10,000 connections lives in `flights_initial.csv`, s https://github.com/neo4j-contrib/training/tree/master/modeling/data.\n",
    "\n",
    "We can run the following query to see what data we’ve got to work with:"
   ]
  },
  {
   "cell_type": "code",
   "execution_count": null,
   "metadata": {
    "button": false,
    "new_sheet": false,
    "run_control": {
     "read_only": false
    },
    "slideshow": {
     "slide_type": "slide"
    }
   },
   "outputs": [],
   "source": [
    "neov('''\n",
    "LOAD CSV WITH HEADERS FROM \"https://raw.githubusercontent.com/neo4j-contrib/training/master/modeling/data/flights_1k.csv\" AS row\n",
    "RETURN row\n",
    "LIMIT 5\n",
    "''')"
   ]
  },
  {
   "cell_type": "markdown",
   "metadata": {
    "button": false,
    "new_sheet": false,
    "run_control": {
     "read_only": false
    },
    "slideshow": {
     "slide_type": "slide"
    }
   },
   "source": [
    "This query:\n",
    "\n",
    "  * loads the file flights_initial.csv\n",
    "  * iterates over the file, referring to each line as the variable row\n",
    "  * and returns the first 5 lines in the file\n",
    "\n",
    "We have got lots of different fields but the ones that will be helpful for answering our question are: `Origin`, `Dest`, and `FlightNum`.\n"
   ]
  },
  {
   "cell_type": "markdown",
   "metadata": {
    "button": false,
    "new_sheet": false,
    "run_control": {
     "read_only": false
    },
    "slideshow": {
     "slide_type": "slide"
    }
   },
   "source": [
    "### Importing connections and airports\n",
    "\n",
    "Run the following query to create nodes and relationships for these connections:"
   ]
  },
  {
   "cell_type": "code",
   "execution_count": null,
   "metadata": {
    "button": false,
    "new_sheet": false,
    "run_control": {
     "read_only": false
    },
    "slideshow": {
     "slide_type": "slide"
    }
   },
   "outputs": [],
   "source": [
    "neov('''\n",
    "LOAD CSV WITH HEADERS FROM \"https://raw.githubusercontent.com/neo4j-contrib/training/master/modeling/data/flights_1k.csv\" \n",
    "    AS row\n",
    "MERGE (origin:Airport {code: row.Origin})\n",
    "MERGE (destination:Airport {code: row.Dest})\n",
    "MERGE (origin)\n",
    "    -[connection:CONNECTED_TO {\n",
    "      airline: row.UniqueCarrier,\n",
    "      flightNumber: row.FlightNum,\n",
    "      date: toInteger(row.Year) \n",
    "          + \"-\" + toInteger(row.Month) \n",
    "          + \"-\" + toInteger(row.DayofMonth)}\n",
    "    ]->\n",
    "    (destination)\n",
    "ON CREATE SET \n",
    "    connection.departure = toInteger(row.CRSDepTime), \n",
    "    connection.arrival = toInteger(row.CRSArrTime)\n",
    "''')"
   ]
  },
  {
   "cell_type": "markdown",
   "metadata": {
    "button": false,
    "new_sheet": false,
    "run_control": {
     "read_only": false
    },
    "slideshow": {
     "slide_type": "slide"
    }
   },
   "source": [
    "This query:\n",
    "\n",
    "  * iterates through each row in the file\n",
    "  * creates nodes with the Airport label for the origin and destination airports if they don’t already exist\n",
    "  * creates a connection relationship between origin and destination airports for each row in the file\n",
    "\n",
    "By default properties will be stored as strings. We know that year, month, and day are actually numeric values so we will coerce them using the toInteger function.\n",
    "\n",
    "Now we are ready to start querying the data."
   ]
  },
  {
   "cell_type": "markdown",
   "metadata": {
    "button": false,
    "new_sheet": false,
    "run_control": {
     "read_only": false
    },
    "slideshow": {
     "slide_type": "slide"
    }
   },
   "source": [
    "### Finding the most popular airports\n",
    "\n",
    "We can see some of what we have imported by writing the following query, which finds the airports with the most outgoing connections.\n",
    "\n",
    "This query:\n",
    "\n",
    "  * finds every node with the `Airport` label\n",
    "  * finds all outgoing `CONNECTED_TO` relationships\n",
    "  * counts them up grouped by airport\n",
    "  * returns the `Airport` nodes and the `outgoing` count in descending order by `outgoing`\n",
    "  * limits the number of airports returned to `10`"
   ]
  },
  {
   "cell_type": "code",
   "execution_count": null,
   "metadata": {
    "button": false,
    "new_sheet": false,
    "run_control": {
     "read_only": false
    }
   },
   "outputs": [],
   "source": [
    "neov('''\n",
    "MATCH (a:Airport)-[:CONNECTED_TO]->()\n",
    "RETURN a, COUNT(*) AS outgoing\n",
    "ORDER BY outgoing DESC\n",
    "LIMIT 5\n",
    "''')"
   ]
  },
  {
   "cell_type": "markdown",
   "metadata": {
    "button": false,
    "new_sheet": false,
    "run_control": {
     "read_only": false
    },
    "slideshow": {
     "slide_type": "slide"
    }
   },
   "source": [
    "### Exercise: Finding connections\n",
    "\n",
    "Now it is your turn! Try and write queries to answer the following questions:\n",
    "\n",
    "  * Find the airports that have the most incoming connections\n",
    "  * Find all the connections into Las Vegas (LAS)\n",
    "  * Find all the connections from Las Vegas (LAS) to Los Angeles (LAX)\n",
    "\n",
    "**Hint:** Refer to the Cypher refcard (http://neo4j.com/docs/stable/cypher-refcard/) for Cypher Syntax.\n"
   ]
  },
  {
   "cell_type": "markdown",
   "metadata": {},
   "source": [
    "# Break"
   ]
  },
  {
   "cell_type": "markdown",
   "metadata": {
    "button": false,
    "new_sheet": false,
    "run_control": {
     "read_only": false
    },
    "slideshow": {
     "slide_type": "slide"
    }
   },
   "source": [
    "## Refactoring and Profiling\n",
    "\n",
    "\n",
    "### Finding specific connections\n",
    "\n",
    "\n",
    "The model has worked well so far. We have been able to find the popular airports and find the connections between pairs of airports without much trouble.\n",
    "\n",
    "What about if we want to find all the occurrences of a specific connection?\n",
    "\n",
    "> As an air travel enthusiast\n",
    ">\n",
    "> I want to know the schedule for flight number\n",
    ">\n",
    "> So that I know when I will be able to spot those planes taking off and landing\n",
    "\n",
    "\n",
    "Our next query finds all the instances of connection `WN 1016`:"
   ]
  },
  {
   "cell_type": "code",
   "execution_count": null,
   "metadata": {
    "button": false,
    "new_sheet": false,
    "run_control": {
     "read_only": false
    },
    "slideshow": {
     "slide_type": "slide"
    }
   },
   "outputs": [],
   "source": [
    "neov('''\n",
    "MATCH  (origin:Airport)-[connection:CONNECTED_TO]->(destination:Airport)\n",
    "WHERE connection.airline = \"WN\" AND connection.flightNumber = \"1016\"\n",
    "RETURN \n",
    "    origin.code, \n",
    "    destination.code, \n",
    "    connection.date, \n",
    "    connection.departure, \n",
    "    connection.arrival\n",
    "''')"
   ]
  },
  {
   "cell_type": "markdown",
   "metadata": {
    "button": false,
    "new_sheet": false,
    "run_control": {
     "read_only": false
    },
    "slideshow": {
     "slide_type": "slide"
    }
   },
   "source": [
    "\n",
    "It is still reasonably quick because we only have 1000 rows, but under the covers we’re actually doing a lot of unnecessary work.\n",
    "\n",
    "\n",
    "We can *profile* our query by prefixing it with the `PROFILE` keyword:\n",
    "\n",
    "> `PROFILE`\n",
    "If you want to run the statement and see which operators are doing most of the work, use PROFILE. This will run your statement and keep track of how many rows pass through each operator, and how much each operator needs to interact with the storage layer to retrieve the necessary data. Please note that profiling your query uses more resources, so you should not profile unless you are actively working on a query. https://neo4j.com/docs/developer-manual/current/cypher/query-tuning/how-do-i-profile-a-query/\n"
   ]
  },
  {
   "cell_type": "markdown",
   "metadata": {
    "button": false,
    "new_sheet": false,
    "run_control": {
     "read_only": false
    },
    "slideshow": {
     "slide_type": "slide"
    }
   },
   "source": [
    "## Profiler\n",
    "Run in the web-shell\n",
    "```cypher\n",
    "PROFILE\n",
    "MATCH  (origin:Airport)-[connection:CONNECTED_TO]->(destination:Airport)\n",
    "WHERE connection.airline = \"WN\" AND connection.flightNumber = \"1016\"\n",
    "RETURN origin.code, destination.code, connection.date, connection.departure, connection.arrival\n",
    "```"
   ]
  },
  {
   "cell_type": "markdown",
   "metadata": {
    "button": false,
    "new_sheet": false,
    "run_control": {
     "read_only": false
    },
    "slideshow": {
     "slide_type": "slide"
    }
   },
   "source": [
    "What we get back is an execution plan which describes the Cypher operators used to execute this query. You can read more about these in the developer manual (https://neo4j.com/docs/developer-manual/current/cypher/#execution-plans)\n",
    "\n",
    "In this one the query starts with a `NodeByLabelScan` on the `:Airport` label, which means that we first scanned all the airports. Next we followed the `FLIGHT` relationship to `origin` airports, and we can see from the estimated rows count that we followed 1000 of these.\n",
    "\n",
    "In fact we actually looked at every single flight, which we can confirm by executing the following query:\n"
   ]
  },
  {
   "cell_type": "code",
   "execution_count": null,
   "metadata": {
    "button": false,
    "new_sheet": false,
    "run_control": {
     "read_only": false
    },
    "slideshow": {
     "slide_type": "slide"
    }
   },
   "outputs": [],
   "source": [
    "MATCH ()-[:CONNECTED_TO]->()\n",
    "RETURN count(*)"
   ]
  },
  {
   "cell_type": "markdown",
   "metadata": {
    "button": false,
    "new_sheet": false,
    "run_control": {
     "read_only": false
    },
    "slideshow": {
     "slide_type": "slide"
    }
   },
   "source": [
    "So it is clear that our model is not optimal - we are doing far too much work just to find the destinations and origins of one flight.\n",
    "\n",
    "It is time to **refactor** the model. The following is based on `:play http://guides.neo4j.com/modeling_airports/02_flight.html`\n"
   ]
  },
  {
   "cell_type": "markdown",
   "metadata": {
    "slideshow": {
     "slide_type": "slide"
    }
   },
   "source": [
    "## Refactoring"
   ]
  },
  {
   "cell_type": "markdown",
   "metadata": {
    "button": false,
    "new_sheet": false,
    "run_control": {
     "read_only": false
    },
    "slideshow": {
     "slide_type": "slide"
    }
   },
   "source": [
    "### Refactoring - Creating flights\n",
    "\n",
    "We are now ready to introduce `Flight` nodes to our data model. That is, we want to create a data model of the following kind:\n",
    "\n",
    "\n",
    "![refactored_model](http://guides.neo4j.com/modeling_airports/img/flight_first_class.png)"
   ]
  },
  {
   "cell_type": "markdown",
   "metadata": {
    "button": false,
    "new_sheet": false,
    "run_control": {
     "read_only": false
    },
    "slideshow": {
     "slide_type": "slide"
    }
   },
   "source": [
    "### Ensuring flight uniqueness\n",
    "\n",
    "When we refactor the model we want to make sure we only create each flight once.\n",
    "\n",
    "Neo4j allows us to create unique constraints to ensure uniqueness across a label/property pair, but at the moment we can only create constraints on single properties. We want to ensure uniqueness across several properties so we will combine those together into a single dummy property.\n",
    "\n",
    "The combination of airline, flight number, and date makes a flight unique. As we saw in the previous section, however, some flights can have multiple legs so we will need to consider departure and arrival airports as well. We will create a flightId with this format: `{airline}{flightNumber}{year}-{month}-{day}_{origin}_{destination}`\n",
    "\n",
    "Run the following query to create a unique constraint on the Flight/id label/property pair:\n"
   ]
  },
  {
   "cell_type": "code",
   "execution_count": null,
   "metadata": {
    "button": false,
    "new_sheet": false,
    "run_control": {
     "read_only": false
    },
    "slideshow": {
     "slide_type": "-"
    }
   },
   "outputs": [],
   "source": [
    "neov('''\n",
    "CREATE CONSTRAINT ON (f:Flight)\n",
    "ASSERT f.id IS UNIQUE\n",
    "''')"
   ]
  },
  {
   "cell_type": "markdown",
   "metadata": {
    "button": false,
    "new_sheet": false,
    "run_control": {
     "read_only": false
    },
    "slideshow": {
     "slide_type": "slide"
    }
   },
   "source": [
    "## Making the flights\n",
    "Run the following query to create Flight nodes for every CONNECTED_TO relationship:\n",
    "\n",
    "The following query\n",
    "\n",
    "  * finds all `(origin, connection, destination)` paths\n",
    "  * creates a `Flight` node if one doesn’t already exist\n",
    "  * creates an `ORIGIN` relationship to the origin airport and a `DESTINATION` relationship to the destination airport"
   ]
  },
  {
   "cell_type": "code",
   "execution_count": null,
   "metadata": {
    "button": false,
    "new_sheet": false,
    "run_control": {
     "read_only": false
    },
    "slideshow": {
     "slide_type": "slide"
    }
   },
   "outputs": [],
   "source": [
    "neov('''\n",
    "MATCH (origin:Airport)-[connection:CONNECTED_TO]->(destination:Airport)\n",
    "MERGE (newFlight:Flight \n",
    "    { id: connection.airline \n",
    "        + connection.flightNumber \n",
    "        + \"_\" + connection.date \n",
    "        + \"_\" + origin.code \n",
    "        + \"_\" + destination.code }   )\n",
    "ON CREATE SET newFlight.date = connection.date,\n",
    "              newFlight.airline = connection.airline,\n",
    "              newFlight.number = connection.flightNumber,\n",
    "              newFlight.departure = connection.departure,\n",
    "              newFlight.arrival = connection.arrival\n",
    "MERGE (origin)<-[:ORIGIN]-(newFlight)\n",
    "MERGE (newFlight)-[:DESTINATION]->(destination)\n",
    "''')"
   ]
  },
  {
   "cell_type": "code",
   "execution_count": null,
   "metadata": {
    "button": false,
    "new_sheet": false,
    "run_control": {
     "read_only": false
    }
   },
   "outputs": [],
   "source": [
    "neov('''\n",
    "CALL db.schema()\n",
    "''')"
   ]
  },
  {
   "cell_type": "markdown",
   "metadata": {
    "button": false,
    "new_sheet": false,
    "run_control": {
     "read_only": false
    },
    "slideshow": {
     "slide_type": "slide"
    }
   },
   "source": [
    "### Find all the flights for flight number WN 1016\n",
    "\n",
    "First let’s create an index on `(Flight, number)` so that we can quickly find the appropriate flights."
   ]
  },
  {
   "cell_type": "code",
   "execution_count": null,
   "metadata": {
    "button": false,
    "new_sheet": false,
    "run_control": {
     "read_only": false
    }
   },
   "outputs": [],
   "source": [
    "neov('''\n",
    "CREATE INDEX ON :Flight(number)\n",
    "''')"
   ]
  },
  {
   "cell_type": "code",
   "execution_count": null,
   "metadata": {
    "button": false,
    "new_sheet": false,
    "run_control": {
     "read_only": false
    }
   },
   "outputs": [],
   "source": [
    "neov('''\n",
    "MATCH (origin)<-[:ORIGIN]-(flight:Flight)-[:DESTINATION]->(destination)\n",
    "WHERE flight.airline = \"WN\" AND flight.number = \"1016\"\n",
    "RETURN origin, destination, flight\n",
    "''')"
   ]
  },
  {
   "cell_type": "markdown",
   "metadata": {
    "button": false,
    "new_sheet": false,
    "run_control": {
     "read_only": false
    },
    "slideshow": {
     "slide_type": "slide"
    }
   },
   "source": [
    "Before we delete the `CONNECTED_TO` relationship we should profile the two versions of the query to see whether our refactoring has improved things.\n"
   ]
  },
  {
   "cell_type": "code",
   "execution_count": null,
   "metadata": {
    "button": false,
    "new_sheet": false,
    "run_control": {
     "read_only": false
    },
    "scrolled": true
   },
   "outputs": [],
   "source": [
    "PROFILE\n",
    "MATCH (origin)<-[:ORIGIN]-(flight:Flight)-[:DESTINATION]->(destination)\n",
    "WHERE flight.airline = \"WN\" AND flight.number = \"1016\"\n",
    "RETURN origin, destination, flight"
   ]
  },
  {
   "cell_type": "code",
   "execution_count": null,
   "metadata": {
    "button": false,
    "new_sheet": false,
    "run_control": {
     "read_only": false
    }
   },
   "outputs": [],
   "source": [
    "PROFILE\n",
    "MATCH (origin:Airport)-[flight:CONNECTED_TO]->(destination:Airport)\n",
    "WHERE flight.airline = \"WN\" AND flight.flightNumber = \"1016\"\n",
    "RETURN origin, destination, flight"
   ]
  },
  {
   "cell_type": "markdown",
   "metadata": {
    "button": false,
    "new_sheet": false,
    "run_control": {
     "read_only": false
    },
    "slideshow": {
     "slide_type": "slide"
    }
   },
   "source": [
    "# Refactoring Edges\n",
    "\n",
    "`:play http://guides.neo4j.com/modeling_airports/03_flight_booking.html`\n",
    "\n",
    "\n",
    "### Flight booking\n",
    "\n",
    "Our system develops and we got a new requirement to satisfy:\n",
    "\n",
    "> As a frequent traveller\n",
    "> \n",
    "> I want to find flights from `origin` to `destination` on `date`\n",
    "> \n",
    "> So that I can book my business flight\n",
    "\n",
    "Before we write queries to satisfy this requirement, let’s import some more data."
   ]
  },
  {
   "cell_type": "markdown",
   "metadata": {
    "button": false,
    "new_sheet": false,
    "run_control": {
     "read_only": false
    },
    "slideshow": {
     "slide_type": "slide"
    }
   },
   "source": [
    "### Import more flights\n",
    "\n",
    "We initially loaded 1000 flights. That was a fun initial dataset to play with, but now that we have got a model we are happy with let’s load in a bit more data.\n",
    "\n",
    "`flights_10k.csv` contains 10000 flights. We can run the following query to import those flights:"
   ]
  },
  {
   "cell_type": "code",
   "execution_count": null,
   "metadata": {
    "button": false,
    "new_sheet": false,
    "run_control": {
     "read_only": false
    },
    "slideshow": {
     "slide_type": "slide"
    }
   },
   "outputs": [],
   "source": [
    "neov('''\n",
    "LOAD CSV WITH HEADERS FROM \"https://raw.githubusercontent.com/neo4j-contrib/training/master/modeling/data/flights_10k.csv\" AS row\n",
    "MERGE (origin:Airport {code: row.Origin})\n",
    "MERGE (destination:Airport {code: row.Dest})\n",
    "MERGE (newFlight:Flight { id: row.UniqueCarrier + row.FlightNum + \"_\" + row.Year + \"-\" + row.Month + \"-\" + row.DayofMonth + \"_\" + row.Origin + \"_\" + row.Dest }   )\n",
    "ON CREATE SET newFlight.date = toInteger(row.Year) + \"-\" + toInteger(row.Month) + \"-\" + toInteger(row.DayofMonth),\n",
    "              newFlight.airline = row.UniqueCarrier,\n",
    "              newFlight.number = row.FlightNum,\n",
    "              newFlight.departure = toInteger(row.CRSDepTime),\n",
    "              newFlight.arrival = toInteger(row.CRSArrTime)\n",
    "MERGE (newFlight)-[:ORIGIN]->(origin)\n",
    "MERGE (newFlight)-[:DESTINATION]->(destination)\n",
    "''')"
   ]
  },
  {
   "cell_type": "markdown",
   "metadata": {
    "button": false,
    "new_sheet": false,
    "run_control": {
     "read_only": false
    },
    "slideshow": {
     "slide_type": "slide"
    }
   },
   "source": [
    "# Finding flights\n",
    "Now it is time to write a query to find available flights between two airports on a specific date.\n",
    "\n",
    "Let’s find all the flights going from Los Angeles (LAS) to Chicago Midway International (MDW) on the 3rd January. Run the following query:\n",
    "\n",
    "This returns quite quickly but try prefixing it with `PROFILE`. \n",
    "\n",
    "What do you notice?"
   ]
  },
  {
   "cell_type": "code",
   "execution_count": null,
   "metadata": {
    "button": false,
    "new_sheet": false,
    "run_control": {
     "read_only": false
    }
   },
   "outputs": [],
   "source": [
    "neov('''\n",
    "MATCH path = (o:Airport {code: \"LAS\"})<-[:ORIGIN]-(flight:Flight)-[:DESTINATION]->(d:Airport {code: \"MDW\"})\n",
    "WHERE flight.date = \"2008-1-3\"\n",
    "RETURN path\n",
    "''')"
   ]
  },
  {
   "cell_type": "markdown",
   "metadata": {
    "button": false,
    "new_sheet": false,
    "run_control": {
     "read_only": false
    },
    "slideshow": {
     "slide_type": "slide"
    }
   },
   "source": [
    "### Profiling the finding flights to book query\n",
    "\n",
    "The query starts by using an index to find `MDW` but then has to traverse all incoming `DESTINATION` relationships and check the date property on the `:Flight` nodes on the other side. The more flights an airport has the more we will have to scan through, and since we are only working with 50000 flights we should probably find a better way to model our data before importing any more rows.\n",
    "\n",
    "Can you think of a way that we can change our model to avoid doing all these property lookups?\n",
    "\n",
    "\n",
    "One way that we can tweak our model to be more aligned with our queries is by bundling flights by day.\n"
   ]
  },
  {
   "cell_type": "markdown",
   "metadata": {
    "button": false,
    "new_sheet": false,
    "run_control": {
     "read_only": false
    }
   },
   "source": [
    "## Introducing Airport Day\n",
    "\n",
    "We want to introduce `:AirportDay` nodes so that we do not have to scan through all the flights going from an airport when we are only interested in a subset of them.\n",
    "\n",
    "Try and write a query to evolve our current model to include this new concept.\n",
    "\n",
    "\n",
    "![](http://guides.neo4j.com/modeling_airports/img/airport_day.png)\n"
   ]
  },
  {
   "cell_type": "markdown",
   "metadata": {
    "button": false,
    "new_sheet": false,
    "run_control": {
     "read_only": false
    },
    "slideshow": {
     "slide_type": "slide"
    }
   },
   "source": [
    "Before we create anything let’s put a unique constraint on :AirportDay so we don’t create any duplicates:"
   ]
  },
  {
   "cell_type": "code",
   "execution_count": null,
   "metadata": {
    "button": false,
    "new_sheet": false,
    "run_control": {
     "read_only": false
    },
    "slideshow": {
     "slide_type": "fragment"
    }
   },
   "outputs": [],
   "source": [
    "neov('''\n",
    "CREATE CONSTRAINT ON (airportDay:AirportDay)\n",
    "ASSERT airportDay.id IS UNIQUE\n",
    "''')"
   ]
  },
  {
   "cell_type": "markdown",
   "metadata": {
    "button": false,
    "new_sheet": false,
    "run_control": {
     "read_only": false
    },
    "slideshow": {
     "slide_type": "slide"
    }
   },
   "source": [
    "We’ll use the combination of origin and the flight date as our unique key for an `:AirportDay`"
   ]
  },
  {
   "cell_type": "code",
   "execution_count": null,
   "metadata": {
    "button": false,
    "new_sheet": false,
    "run_control": {
     "read_only": false
    },
    "slideshow": {
     "slide_type": "fragment"
    }
   },
   "outputs": [],
   "source": [
    "neov('''\n",
    "MATCH (origin:Airport)<-[:ORIGIN]-(flight:Flight)-[:DESTINATION]->(destination:Airport)\n",
    "MERGE (originAirportDay:AirportDay {id: origin.code + \"_\" + flight.date})\n",
    "SET originAirportDay.date = flight.date\n",
    "MERGE (destinationAirportDay:AirportDay {id: destination.code + \"_\" + flight.date})\n",
    "SET destinationAirportDay.date = flight.date\n",
    "MERGE (origin)-[:HAS_DAY]->(originAirportDay)\n",
    "MERGE (flight)-[:ORIGIN]->(originAirportDay)\n",
    "\n",
    "MERGE (flight)-[:DESTINATION]->(destinationAirportDay)\n",
    "MERGE (destination)-[:HAS_DAY]->(destinationAirportDay)\n",
    "''')"
   ]
  },
  {
   "cell_type": "markdown",
   "metadata": {
    "button": false,
    "new_sheet": false,
    "run_control": {
     "read_only": false
    },
    "slideshow": {
     "slide_type": "slide"
    }
   },
   "source": [
    "### Find flights to book\n",
    "\n",
    "Now let’s try finding those flights between Los Angeles and Chicago Midway International again. To recap, this was our original query:"
   ]
  },
  {
   "cell_type": "code",
   "execution_count": null,
   "metadata": {
    "button": false,
    "new_sheet": false,
    "run_control": {
     "read_only": false
    },
    "slideshow": {
     "slide_type": "slide"
    }
   },
   "outputs": [],
   "source": [
    "PROFILE\n",
    "MATCH path = (origin:Airport {code: \"LAS\"})<-[:ORIGIN]-(flight:Flight)-[:DESTINATION]->(destination:Airport {code: \"MDW\"})\n",
    "WHERE flight.date = \"2008-1-3\"\n",
    "RETURN path"
   ]
  },
  {
   "cell_type": "markdown",
   "metadata": {
    "button": false,
    "new_sheet": false,
    "run_control": {
     "read_only": false
    },
    "slideshow": {
     "slide_type": "slide"
    }
   },
   "source": [
    "This is the equivalent query which makes use of `:AirportDay`"
   ]
  },
  {
   "cell_type": "code",
   "execution_count": null,
   "metadata": {
    "button": false,
    "new_sheet": false,
    "run_control": {
     "read_only": false
    },
    "slideshow": {
     "slide_type": "slide"
    }
   },
   "outputs": [],
   "source": [
    "PROFILE\n",
    "MATCH (origin:Airport {code: \"LAS\"})-[:HAS_DAY]->(:AirportDay {date: \"2008-1-3\"})<-[:ORIGIN]-(flight:Flight),\n",
    "      (flight)-[:DESTINATION]->(:AirportDay {date: \"2008-1-3\"})<-[:HAS_DAY]-(destination:Airport {code: \"MDW\"})\n",
    "RETURN *"
   ]
  },
  {
   "cell_type": "markdown",
   "metadata": {
    "slideshow": {
     "slide_type": "slide"
    }
   },
   "source": [
    "# Accessing Neo4J from Java\n",
    "\n",
    "In the following is a condensed tutorial on how to excute Cypher queries and access a Neo4J database from Java code. The guide assumes that you use Maven to manage your code dependencies.\n",
    "\n",
    "  * Create a Maven project. In NetBeans `New Project -> Maven -> Java Application`\n",
    "  * Add a dependency to the Neo4J driver to your project configuration (`pom.xml`)\n",
    "    \n",
    "    ```xml\n",
    "    <dependencies>\n",
    "        <dependency>\n",
    "            <groupId>org.neo4j.driver</groupId>\n",
    "            <artifactId>neo4j-java-driver</artifactId>\n",
    "            <version>1.7.3</version>\n",
    "        </dependency>\n",
    "\n",
    "        <!-- ...any other dependencies -->\n",
    "    </dependencies>\n",
    "    ```"
   ]
  },
  {
   "cell_type": "markdown",
   "metadata": {
    "slideshow": {
     "slide_type": "subslide"
    }
   },
   "source": [
    "### Create a Java Class:\n",
    "  \n",
    "```java\n",
    "package whopackagesajava.neo4j;\n",
    "\n",
    "import org.neo4j.driver.v1.*;\n",
    "\n",
    "public class ConnectionTest {\n",
    "\n",
    "    public static void main(String[] args) {\n",
    "        Driver driver = GraphDatabase.driver( \n",
    "                \"bolt://localhost:7687\", \n",
    "                AuthTokens.basic( \"neo4j\", \"fancy!99Doorknob\" ) );\n",
    "        Session session = driver.session();\n",
    "\n",
    "        // Run a query matching all nodes\n",
    "        StatementResult result = session.run( \n",
    "                \"MATCH (s:Airport) -[:CONNECTED_TO]->(d:Airport)\" +\n",
    "                \"RETURN s.code AS source, d.code AS dest \" +\n",
    "                \"LIMIT 5\");\n",
    "        System.out.println( \"---------------\" );\n",
    "        while ( result.hasNext() ) {\n",
    "            Record record = result.next();\n",
    "            System.out.println( \n",
    "                record.get(\"source\").asString() + \n",
    "                \" -> \" + \n",
    "                record.get(\"dest\").asString());\n",
    "        }\n",
    "        System.out.println( \"---------------\" );\n",
    "        session.close();\n",
    "        driver.close();\n",
    "       }\n",
    "}\n",
    "```\n",
    "    \n",
    "#### Output:\n",
    "```\n",
    "---------------\n",
    "MDW -> LAX\n",
    "MCI -> LAX\n",
    "LAS -> LAX\n",
    "MCI -> LAX\n",
    "MDW -> LAX\n",
    "---------------\n",
    "```\n",
    "\n",
    "This example is based on: https://neo4j.com/developer/java/#_the_example_project\n",
    "\n",
    "See https://neo4j.com/developer/language-guides/ for guides on using other languages than Java."
   ]
  },
  {
   "cell_type": "markdown",
   "metadata": {
    "button": false,
    "new_sheet": false,
    "run_control": {
     "read_only": false
    },
    "slideshow": {
     "slide_type": "slide"
    }
   },
   "source": [
    "# Modelling Guidelines\n",
    "\n",
    "\n",
    "`:play http://guides.neo4j.com/modeling_airports/04_specific_relationship_types.html`\n",
    "\n",
    "See the `Modeling Guidelines.pdf` in the literature folder.\n",
    "\n",
    "\n",
    "# Further reading\n",
    "\n",
    "The following two tutorials expand on the examples further:\n",
    "\n",
    "`:play http://guides.neo4j.com/modeling_airports/04_specific_relationship_types.html`\n",
    "\n",
    "`:play http://guides.neo4j.com/modeling_airports/05_refactoring_large_graphs.html`\n",
    "  \n",
    "  \n",
    "  "
   ]
  },
  {
   "cell_type": "markdown",
   "metadata": {},
   "source": [
    "# [Assignment](https://github.com/datsoftlyngby/soft2019spring-databases/blob/master/assignments/assignment13.md)\n",
    "\n"
   ]
  },
  {
   "cell_type": "markdown",
   "metadata": {},
   "source": [
    "# Preliminary exam info\n",
    "\n",
    "[See here](https://github.com/datsoftlyngby/soft2019spring-databases) (Exam folder on our material site)\n"
   ]
  }
 ],
 "metadata": {
  "celltoolbar": "Slideshow",
  "kernelspec": {
   "display_name": "Python 3",
   "language": "python",
   "name": "python3"
  },
  "language_info": {
   "codemirror_mode": {
    "name": "ipython",
    "version": 3
   },
   "file_extension": ".py",
   "mimetype": "text/x-python",
   "name": "python",
   "nbconvert_exporter": "python",
   "pygments_lexer": "ipython3",
   "version": "3.7.3"
  }
 },
 "nbformat": 4,
 "nbformat_minor": 2
}
